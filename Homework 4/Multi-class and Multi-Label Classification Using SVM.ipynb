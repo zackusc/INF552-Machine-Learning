{
 "cells": [
  {
   "cell_type": "markdown",
   "metadata": {},
   "source": [
    "# Multi-class and Multi-Label Classification Using Support Vector Machines\n",
    "\n",
    "## a. Download the Anuran Calls (MFCCs) Data Set\n",
    "from: https://archive.ics. uci.edu/ml/datasets/Anuran+Calls+%28MFCCs%29#. Choose 70% of the data randomly as the training set."
   ]
  },
  {
   "cell_type": "code",
   "execution_count": 105,
   "metadata": {},
   "outputs": [],
   "source": [
    "import numpy as np\n",
    "import pandas as pd\n",
    "import seaborn as sb\n",
    "import matplotlib.pyplot as plt\n",
    "from sklearn.model_selection import train_test_split\n",
    "from sklearn.svm import LinearSVC\n",
    "from sklearn.model_selection import StratifiedKFold\n",
    "from sklearn.model_selection import GridSearchCV\n",
    "\n",
    "from math import log10"
   ]
  },
  {
   "cell_type": "code",
   "execution_count": 106,
   "metadata": {},
   "outputs": [
    {
     "data": {
      "text/html": [
       "<div>\n",
       "<style scoped>\n",
       "    .dataframe tbody tr th:only-of-type {\n",
       "        vertical-align: middle;\n",
       "    }\n",
       "\n",
       "    .dataframe tbody tr th {\n",
       "        vertical-align: top;\n",
       "    }\n",
       "\n",
       "    .dataframe thead th {\n",
       "        text-align: right;\n",
       "    }\n",
       "</style>\n",
       "<table border=\"1\" class=\"dataframe\">\n",
       "  <thead>\n",
       "    <tr style=\"text-align: right;\">\n",
       "      <th></th>\n",
       "      <th>MFCCs_ 1</th>\n",
       "      <th>MFCCs_ 2</th>\n",
       "      <th>MFCCs_ 3</th>\n",
       "      <th>MFCCs_ 4</th>\n",
       "      <th>MFCCs_ 5</th>\n",
       "      <th>MFCCs_ 6</th>\n",
       "      <th>MFCCs_ 7</th>\n",
       "      <th>MFCCs_ 8</th>\n",
       "      <th>MFCCs_ 9</th>\n",
       "      <th>MFCCs_10</th>\n",
       "      <th>...</th>\n",
       "      <th>MFCCs_17</th>\n",
       "      <th>MFCCs_18</th>\n",
       "      <th>MFCCs_19</th>\n",
       "      <th>MFCCs_20</th>\n",
       "      <th>MFCCs_21</th>\n",
       "      <th>MFCCs_22</th>\n",
       "      <th>Family</th>\n",
       "      <th>Genus</th>\n",
       "      <th>Species</th>\n",
       "      <th>RecordID</th>\n",
       "    </tr>\n",
       "  </thead>\n",
       "  <tbody>\n",
       "    <tr>\n",
       "      <th>0</th>\n",
       "      <td>1.0</td>\n",
       "      <td>0.152936</td>\n",
       "      <td>-0.105586</td>\n",
       "      <td>0.200722</td>\n",
       "      <td>0.317201</td>\n",
       "      <td>0.260764</td>\n",
       "      <td>0.100945</td>\n",
       "      <td>-0.150063</td>\n",
       "      <td>-0.171128</td>\n",
       "      <td>0.124676</td>\n",
       "      <td>...</td>\n",
       "      <td>-0.108351</td>\n",
       "      <td>-0.077623</td>\n",
       "      <td>-0.009568</td>\n",
       "      <td>0.057684</td>\n",
       "      <td>0.118680</td>\n",
       "      <td>0.014038</td>\n",
       "      <td>Leptodactylidae</td>\n",
       "      <td>Adenomera</td>\n",
       "      <td>AdenomeraAndre</td>\n",
       "      <td>1</td>\n",
       "    </tr>\n",
       "    <tr>\n",
       "      <th>1</th>\n",
       "      <td>1.0</td>\n",
       "      <td>0.171534</td>\n",
       "      <td>-0.098975</td>\n",
       "      <td>0.268425</td>\n",
       "      <td>0.338672</td>\n",
       "      <td>0.268353</td>\n",
       "      <td>0.060835</td>\n",
       "      <td>-0.222475</td>\n",
       "      <td>-0.207693</td>\n",
       "      <td>0.170883</td>\n",
       "      <td>...</td>\n",
       "      <td>-0.090974</td>\n",
       "      <td>-0.056510</td>\n",
       "      <td>-0.035303</td>\n",
       "      <td>0.020140</td>\n",
       "      <td>0.082263</td>\n",
       "      <td>0.029056</td>\n",
       "      <td>Leptodactylidae</td>\n",
       "      <td>Adenomera</td>\n",
       "      <td>AdenomeraAndre</td>\n",
       "      <td>1</td>\n",
       "    </tr>\n",
       "    <tr>\n",
       "      <th>2</th>\n",
       "      <td>1.0</td>\n",
       "      <td>0.152317</td>\n",
       "      <td>-0.082973</td>\n",
       "      <td>0.287128</td>\n",
       "      <td>0.276014</td>\n",
       "      <td>0.189867</td>\n",
       "      <td>0.008714</td>\n",
       "      <td>-0.242234</td>\n",
       "      <td>-0.219153</td>\n",
       "      <td>0.232538</td>\n",
       "      <td>...</td>\n",
       "      <td>-0.050691</td>\n",
       "      <td>-0.023590</td>\n",
       "      <td>-0.066722</td>\n",
       "      <td>-0.025083</td>\n",
       "      <td>0.099108</td>\n",
       "      <td>0.077162</td>\n",
       "      <td>Leptodactylidae</td>\n",
       "      <td>Adenomera</td>\n",
       "      <td>AdenomeraAndre</td>\n",
       "      <td>1</td>\n",
       "    </tr>\n",
       "    <tr>\n",
       "      <th>3</th>\n",
       "      <td>1.0</td>\n",
       "      <td>0.224392</td>\n",
       "      <td>0.118985</td>\n",
       "      <td>0.329432</td>\n",
       "      <td>0.372088</td>\n",
       "      <td>0.361005</td>\n",
       "      <td>0.015501</td>\n",
       "      <td>-0.194347</td>\n",
       "      <td>-0.098181</td>\n",
       "      <td>0.270375</td>\n",
       "      <td>...</td>\n",
       "      <td>-0.136009</td>\n",
       "      <td>-0.177037</td>\n",
       "      <td>-0.130498</td>\n",
       "      <td>-0.054766</td>\n",
       "      <td>-0.018691</td>\n",
       "      <td>0.023954</td>\n",
       "      <td>Leptodactylidae</td>\n",
       "      <td>Adenomera</td>\n",
       "      <td>AdenomeraAndre</td>\n",
       "      <td>1</td>\n",
       "    </tr>\n",
       "    <tr>\n",
       "      <th>4</th>\n",
       "      <td>1.0</td>\n",
       "      <td>0.087817</td>\n",
       "      <td>-0.068345</td>\n",
       "      <td>0.306967</td>\n",
       "      <td>0.330923</td>\n",
       "      <td>0.249144</td>\n",
       "      <td>0.006884</td>\n",
       "      <td>-0.265423</td>\n",
       "      <td>-0.172700</td>\n",
       "      <td>0.266434</td>\n",
       "      <td>...</td>\n",
       "      <td>-0.048885</td>\n",
       "      <td>-0.053074</td>\n",
       "      <td>-0.088550</td>\n",
       "      <td>-0.031346</td>\n",
       "      <td>0.108610</td>\n",
       "      <td>0.079244</td>\n",
       "      <td>Leptodactylidae</td>\n",
       "      <td>Adenomera</td>\n",
       "      <td>AdenomeraAndre</td>\n",
       "      <td>1</td>\n",
       "    </tr>\n",
       "  </tbody>\n",
       "</table>\n",
       "<p>5 rows × 26 columns</p>\n",
       "</div>"
      ],
      "text/plain": [
       "   MFCCs_ 1  MFCCs_ 2  MFCCs_ 3  MFCCs_ 4  MFCCs_ 5  MFCCs_ 6  MFCCs_ 7  \\\n",
       "0       1.0  0.152936 -0.105586  0.200722  0.317201  0.260764  0.100945   \n",
       "1       1.0  0.171534 -0.098975  0.268425  0.338672  0.268353  0.060835   \n",
       "2       1.0  0.152317 -0.082973  0.287128  0.276014  0.189867  0.008714   \n",
       "3       1.0  0.224392  0.118985  0.329432  0.372088  0.361005  0.015501   \n",
       "4       1.0  0.087817 -0.068345  0.306967  0.330923  0.249144  0.006884   \n",
       "\n",
       "   MFCCs_ 8  MFCCs_ 9  MFCCs_10    ...     MFCCs_17  MFCCs_18  MFCCs_19  \\\n",
       "0 -0.150063 -0.171128  0.124676    ...    -0.108351 -0.077623 -0.009568   \n",
       "1 -0.222475 -0.207693  0.170883    ...    -0.090974 -0.056510 -0.035303   \n",
       "2 -0.242234 -0.219153  0.232538    ...    -0.050691 -0.023590 -0.066722   \n",
       "3 -0.194347 -0.098181  0.270375    ...    -0.136009 -0.177037 -0.130498   \n",
       "4 -0.265423 -0.172700  0.266434    ...    -0.048885 -0.053074 -0.088550   \n",
       "\n",
       "   MFCCs_20  MFCCs_21  MFCCs_22           Family      Genus         Species  \\\n",
       "0  0.057684  0.118680  0.014038  Leptodactylidae  Adenomera  AdenomeraAndre   \n",
       "1  0.020140  0.082263  0.029056  Leptodactylidae  Adenomera  AdenomeraAndre   \n",
       "2 -0.025083  0.099108  0.077162  Leptodactylidae  Adenomera  AdenomeraAndre   \n",
       "3 -0.054766 -0.018691  0.023954  Leptodactylidae  Adenomera  AdenomeraAndre   \n",
       "4 -0.031346  0.108610  0.079244  Leptodactylidae  Adenomera  AdenomeraAndre   \n",
       "\n",
       "   RecordID  \n",
       "0         1  \n",
       "1         1  \n",
       "2         1  \n",
       "3         1  \n",
       "4         1  \n",
       "\n",
       "[5 rows x 26 columns]"
      ]
     },
     "execution_count": 106,
     "metadata": {},
     "output_type": "execute_result"
    }
   ],
   "source": [
    "anuran_df = pd.read_csv(\"data/Anuran Calls (MFCCs)/Frogs_MFCCs.csv\")\n",
    "anuran_df.head()"
   ]
  },
  {
   "cell_type": "code",
   "execution_count": 107,
   "metadata": {},
   "outputs": [
    {
     "name": "stderr",
     "output_type": "stream",
     "text": [
      "/Users/lizi/venv/lib/python3.6/site-packages/sklearn/model_selection/_split.py:2026: FutureWarning: From version 0.21, test_size will always complement train_size unless both are specified.\n",
      "  FutureWarning)\n"
     ]
    }
   ],
   "source": [
    "train_df, test_df = train_test_split(anuran_df, train_size=0.7)"
   ]
  },
  {
   "cell_type": "markdown",
   "metadata": {},
   "source": [
    "## b. Train a classifier for each label\n",
    "### ii. Train a SVM for each label, using Gaussian kernels and one versus all classifiers."
   ]
  },
  {
   "cell_type": "code",
   "execution_count": 124,
   "metadata": {},
   "outputs": [],
   "source": [
    "from sklearn.svm import SVC\n",
    "from sklearn import metrics"
   ]
  },
  {
   "cell_type": "code",
   "execution_count": 109,
   "metadata": {},
   "outputs": [],
   "source": [
    "def tune_GaussianSVC(X_train, y_train):\n",
    "    #determine range for  C\n",
    "    c_vals = np.logspace(-5, 8, 10)\n",
    "    scores = []\n",
    "    for c in c_vals:\n",
    "        svc = SVC(kernel='rbf', C=c)\n",
    "        svc.fit(X_train, y_train)\n",
    "        scores.append(svc.score(X_train, y_train))\n",
    "    scores = np.array(scores)\n",
    "    index = np.argwhere(scores > 0.9).flatten()\n",
    "    c_low = c_vals[index[0]]\n",
    "    c_high = c_vals[index[-1]]\n",
    "    \n",
    "    #determine range for gamma\n",
    "    gamma_s = np.append(np.logspace(-4, -1, 10), np.logspace(0, 2, 10))\n",
    "    scores2 = []\n",
    "    for gamma in gamma_s:\n",
    "        svc = SVC(kernel='rbf', gamma=gamma)\n",
    "        svc.fit(X_train, y_train)\n",
    "        scores2.append(svc.score(X_train, y_train))\n",
    "    scores2 = np.array(scores2)\n",
    "    index2 = np.argwhere(scores2 > 0.9).flatten()\n",
    "    gamma_low = gamma_s[index2[0]]\n",
    "    gamma_high = gamma_s[index2[-1]]\n",
    "    \n",
    "    #cross validation\n",
    "    param_grid = {\n",
    "        'C': np.logspace(log10(c_low), log10(c_high), 10),\n",
    "        'gamma': np.logspace(log10(gamma_low), log10(gamma_high), 10)\n",
    "    }\n",
    "    \n",
    "    kf = StratifiedKFold(n_splits=10, shuffle=True)\n",
    "    grid = GridSearchCV(svc, param_grid, cv=kf, scoring='accuracy')\n",
    "    grid.fit(X_train, y_train)\n",
    "    \n",
    "    return grid\n",
    "    \n",
    "    "
   ]
  },
  {
   "cell_type": "code",
   "execution_count": 110,
   "metadata": {},
   "outputs": [
    {
     "name": "stdout",
     "output_type": "stream",
     "text": [
      "Train SVM for label 'Family':\n",
      "\n",
      "The best parameters are {'C': 38.04056104782507, 'gamma': 2.3462288481422626}\n",
      "Train SVM for label 'Genus':\n",
      "\n",
      "The best parameters are {'C': 38.04056104782507, 'gamma': 3.3000347911252854}\n",
      "Train SVM for label 'Species':\n",
      "\n",
      "The best parameters are {'C': 5.994842503189409, 'gamma': 1.406527242105237}\n"
     ]
    }
   ],
   "source": [
    "labels = ['Family', 'Genus', 'Species']\n",
    "\n",
    "pred = pd.DataFrame()\n",
    "\n",
    "for l in labels:\n",
    "    X_train = train_df.iloc[:, :-4]\n",
    "    y_train = train_df[l]\n",
    "    X_test = test_df.iloc[:, :-4]\n",
    "    \n",
    "    print(\"Train SVM for label '\" + str(l) + \"':\\n\")\n",
    "    \n",
    "    gridCV = tune_GaussianSVC(X_train, y_train)\n",
    "    print('The best parameters are', gridCV.best_params_)\n",
    "    svc = gridCV.best_estimator_\n",
    "    \n",
    "    pred[l] = svc.predict(X_test)"
   ]
  },
  {
   "cell_type": "code",
   "execution_count": 111,
   "metadata": {
    "scrolled": true
   },
   "outputs": [],
   "source": [
    "pred = pd.DataFrame(pred)"
   ]
  },
  {
   "cell_type": "code",
   "execution_count": 133,
   "metadata": {},
   "outputs": [
    {
     "name": "stdout",
     "output_type": "stream",
     "text": [
      "prediction for test data:\n",
      "                Family          Genus                 Species\n",
      "0     Leptodactylidae      Adenomera  AdenomeraHylaedactylus\n",
      "1             Hylidae  Dendropsophus              HylaMinuta\n",
      "2     Leptodactylidae      Adenomera  AdenomeraHylaedactylus\n",
      "3             Hylidae      Hypsiboas       HypsiboasCordobae\n",
      "4     Leptodactylidae      Adenomera  AdenomeraHylaedactylus\n",
      "5     Leptodactylidae      Adenomera  AdenomeraHylaedactylus\n",
      "6             Hylidae      Hypsiboas       HypsiboasCordobae\n",
      "7       Dendrobatidae       Ameerega      Ameeregatrivittata\n",
      "8     Leptodactylidae      Adenomera  AdenomeraHylaedactylus\n",
      "9     Leptodactylidae      Adenomera          AdenomeraAndre\n",
      "10    Leptodactylidae      Adenomera  AdenomeraHylaedactylus\n",
      "11    Leptodactylidae      Adenomera  AdenomeraHylaedactylus\n",
      "12    Leptodactylidae      Adenomera  AdenomeraHylaedactylus\n",
      "13    Leptodactylidae  Leptodactylus     LeptodactylusFuscus\n",
      "14    Leptodactylidae      Adenomera  AdenomeraHylaedactylus\n",
      "15            Hylidae      Hypsiboas    HypsiboasCinerascens\n",
      "16          Bufonidae       Rhinella       Rhinellagranulosa\n",
      "17    Leptodactylidae  Leptodactylus     LeptodactylusFuscus\n",
      "18    Leptodactylidae      Adenomera  AdenomeraHylaedactylus\n",
      "19    Leptodactylidae      Adenomera  AdenomeraHylaedactylus\n",
      "20      Dendrobatidae       Ameerega      Ameeregatrivittata\n",
      "21            Hylidae      Hypsiboas    HypsiboasCinerascens\n",
      "22            Hylidae      Hypsiboas    HypsiboasCinerascens\n",
      "23            Hylidae      Hypsiboas       HypsiboasCordobae\n",
      "24      Dendrobatidae       Ameerega      Ameeregatrivittata\n",
      "25            Hylidae      Hypsiboas       HypsiboasCordobae\n",
      "26      Dendrobatidae       Ameerega      Ameeregatrivittata\n",
      "27    Leptodactylidae      Adenomera  AdenomeraHylaedactylus\n",
      "28            Hylidae      Hypsiboas       HypsiboasCordobae\n",
      "29    Leptodactylidae      Adenomera  AdenomeraHylaedactylus\n",
      "...               ...            ...                     ...\n",
      "2129  Leptodactylidae      Adenomera  AdenomeraHylaedactylus\n",
      "2130          Hylidae      Hypsiboas       HypsiboasCordobae\n",
      "2131          Hylidae      Hypsiboas       HypsiboasCordobae\n",
      "2132  Leptodactylidae      Adenomera  AdenomeraHylaedactylus\n",
      "2133          Hylidae  Osteocephalus   OsteocephalusOophagus\n",
      "2134  Leptodactylidae      Adenomera  AdenomeraHylaedactylus\n",
      "2135          Hylidae      Hypsiboas       HypsiboasCordobae\n",
      "2136          Hylidae      Hypsiboas    HypsiboasCinerascens\n",
      "2137  Leptodactylidae      Adenomera  AdenomeraHylaedactylus\n",
      "2138  Leptodactylidae      Adenomera  AdenomeraHylaedactylus\n",
      "2139  Leptodactylidae      Adenomera  AdenomeraHylaedactylus\n",
      "2140  Leptodactylidae      Adenomera  AdenomeraHylaedactylus\n",
      "2141  Leptodactylidae      Adenomera  AdenomeraHylaedactylus\n",
      "2142          Hylidae      Hypsiboas       HypsiboasCordobae\n",
      "2143          Hylidae      Hypsiboas       HypsiboasCordobae\n",
      "2144    Dendrobatidae       Ameerega      Ameeregatrivittata\n",
      "2145  Leptodactylidae      Adenomera          AdenomeraAndre\n",
      "2146  Leptodactylidae      Adenomera  AdenomeraHylaedactylus\n",
      "2147  Leptodactylidae      Adenomera  AdenomeraHylaedactylus\n",
      "2148  Leptodactylidae      Adenomera  AdenomeraHylaedactylus\n",
      "2149  Leptodactylidae      Adenomera  AdenomeraHylaedactylus\n",
      "2150  Leptodactylidae      Adenomera  AdenomeraHylaedactylus\n",
      "2151          Hylidae      Hypsiboas    HypsiboasCinerascens\n",
      "2152          Hylidae      Hypsiboas    HypsiboasCinerascens\n",
      "2153  Leptodactylidae      Adenomera  AdenomeraHylaedactylus\n",
      "2154  Leptodactylidae      Adenomera  AdenomeraHylaedactylus\n",
      "2155  Leptodactylidae      Adenomera  AdenomeraHylaedactylus\n",
      "2156          Hylidae      Hypsiboas    HypsiboasCinerascens\n",
      "2157          Hylidae      Hypsiboas       HypsiboasCordobae\n",
      "2158          Hylidae      Hypsiboas       HypsiboasCordobae\n",
      "\n",
      "[2159 rows x 3 columns]\n"
     ]
    }
   ],
   "source": [
    "print(\"prediction for test data:\\n\", pred)"
   ]
  },
  {
   "cell_type": "code",
   "execution_count": 140,
   "metadata": {},
   "outputs": [
    {
     "name": "stdout",
     "output_type": "stream",
     "text": [
      "The hamming loss for Gaussian kernel SVM is 0.008491585610622202\n"
     ]
    }
   ],
   "source": [
    "def compute_hamming_loss(pred):\n",
    "    hamming_loss = []\n",
    "    for l in labels:\n",
    "        hamming_loss.append(metrics.hamming_loss(test_df[l], pred[l]))\n",
    "    return np.mean(hamming_loss)\n",
    "print(\"The hamming loss for Gaussian kernel SVM is\", compute_hamming_loss(pred))"
   ]
  },
  {
   "cell_type": "markdown",
   "metadata": {},
   "source": [
    "### iii. Train L1-penalized SVMs."
   ]
  },
  {
   "cell_type": "code",
   "execution_count": 136,
   "metadata": {},
   "outputs": [],
   "source": [
    "def tune_linearSVC(X_train, y_train):\n",
    "    '''\n",
    "    tune the penalty parameter of LinearSVC\n",
    "    return the best estinator chosen by CV\n",
    "    '''\n",
    "    C_s = np.logspace(-5, 5, 11)\n",
    "    scores = []\n",
    "    for c in C_s:\n",
    "        svc = LinearSVC(penalty='l1', C=c, dual=False)\n",
    "        svc.fit(X_train, y_train)\n",
    "        scores.append(svc.score(X_train, y_train))\n",
    "    scores = np.array(scores)\n",
    "    index = np.argwhere(scores > 0.9).flatten()\n",
    "    low = C_s[index[0]]\n",
    "    high = C_s[index[-1]]\n",
    "    \n",
    "    #do fine grid cross validation\n",
    "    C_vals = np.logspace(log10(low), log10(high), 20)\n",
    "    param_grid = {'C': C_vals}\n",
    "    \n",
    "    svc = LinearSVC(penalty='l1', dual=False)\n",
    "    n_splits = 10 if (len(X_train) > 10) else 5\n",
    "    \n",
    "    kf = StratifiedKFold(n_splits=n_splits, shuffle=True)\n",
    "    clf = GridSearchCV(svc, param_grid, cv=kf, scoring='accuracy')\n",
    "    clf.fit(X_train, y_train)\n",
    "    print('\\tThe best C is', clf.best_params_['C'], ', CV-ed accurracy is', clf.best_score_, '\\n')    \n",
    "    return clf.best_estimator_"
   ]
  },
  {
   "cell_type": "code",
   "execution_count": 137,
   "metadata": {},
   "outputs": [
    {
     "name": "stdout",
     "output_type": "stream",
     "text": [
      "Train linear SVM for label 'Family':\n",
      "\n",
      "\tThe best C is 16.23776739188721 , CV-ed accurracy is 0.9326846703733122 \n",
      "\n",
      "Train linear SVM for label 'Genus':\n",
      "\n",
      "\tThe best C is 297.6351441631316 , CV-ed accurracy is 0.9507545671167593 \n",
      "\n",
      "Train linear SVM for label 'Species':\n",
      "\n",
      "\tThe best C is 297.6351441631316 , CV-ed accurracy is 0.9571088165210484 \n",
      "\n"
     ]
    }
   ],
   "source": [
    "pred2 = pd.DataFrame()\n",
    "\n",
    "for l in labels:\n",
    "    X_train = train_df.iloc[:, :-4]\n",
    "    y_train = train_df[l]\n",
    "    X_test = test_df.iloc[:, :-4]\n",
    "    \n",
    "    print(\"Train linear SVM for label '\" + str(l) + \"':\\n\")\n",
    "    \n",
    "    ln_svc = tune_linearSVC(X_train, y_train)\n",
    "    \n",
    "    pred2[l] = ln_svc.predict(X_test)"
   ]
  },
  {
   "cell_type": "code",
   "execution_count": 141,
   "metadata": {},
   "outputs": [
    {
     "name": "stdout",
     "output_type": "stream",
     "text": [
      "The hamming loss for linear SVM is 0.050331943801142504\n"
     ]
    }
   ],
   "source": [
    "print(\"The hamming loss for linear SVM is\", compute_hamming_loss(pred2))"
   ]
  },
  {
   "cell_type": "code",
   "execution_count": null,
   "metadata": {},
   "outputs": [],
   "source": []
  }
 ],
 "metadata": {
  "kernelspec": {
   "display_name": "Python 3",
   "language": "python",
   "name": "python3"
  },
  "language_info": {
   "codemirror_mode": {
    "name": "ipython",
    "version": 3
   },
   "file_extension": ".py",
   "mimetype": "text/x-python",
   "name": "python",
   "nbconvert_exporter": "python",
   "pygments_lexer": "ipython3",
   "version": "3.6.5"
  }
 },
 "nbformat": 4,
 "nbformat_minor": 2
}
